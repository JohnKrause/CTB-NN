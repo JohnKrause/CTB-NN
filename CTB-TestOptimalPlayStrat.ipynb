{
 "cells": [
  {
   "cell_type": "markdown",
   "metadata": {},
   "source": [
    "# Here we will utilze the optimal play strat to play a large number of random games and see what our overall win percentage ends up being"
   ]
  },
  {
   "cell_type": "code",
   "execution_count": 1,
   "metadata": {},
   "outputs": [],
   "source": [
    "from OptimalPlayStrat import Strat\n",
    "import CTBGame as CTB"
   ]
  },
  {
   "cell_type": "code",
   "execution_count": 2,
   "metadata": {},
   "outputs": [
    {
     "name": "stdout",
     "output_type": "stream",
     "text": [
      "[0, 1, 1, 0, 0, 1, 1, 1, 1, 7, [[6, 0.743]]]\n",
      "[0, 1, 1, 0, 0, 1, 1, 1, 1, 8, [[7, 0.905], [20, 0.619]]]\n",
      "[0, 1, 1, 0, 0, 1, 1, 1, 1, 9, [[8, 0.869], [21, 0.515], [26, 0.5880000000000001]]]\n",
      "[0, 1, 1, 0, 0, 1, 1, 1, 1, 10, [[22, 0.605], [27, 0.534]]]\n",
      "[0, 1, 1, 0, 0, 1, 1, 1, 1, 11, [[23, 0.742], [28, 0.643]]]\n",
      "[0, 1, 1, 0, 0, 1, 1, 1, 1, 12, [[29, 0.6819999999999999]]]\n",
      "[1, 0, 1, 0, 0, 1, 1, 1, 1, 2, []]\n",
      "[1, 0, 1, 0, 0, 1, 1, 1, 1, 3, [[2, 0.645]]]\n",
      "[1, 0, 1, 0, 0, 1, 1, 1, 1, 4, [[10, 0.5349999999999999]]]\n",
      "[1, 0, 1, 0, 0, 1, 1, 1, 1, 5, []]\n",
      "[1, 0, 1, 0, 0, 1, 1, 1, 1, 6, [[5, 0.723]]]\n",
      "[1, 0, 1, 0, 0, 1, 1, 1, 1, 7, [[6, 0.873], [13, 0.641]]]\n",
      "[1, 0, 1, 0, 0, 1, 1, 1, 1, 8, [[7, 0.78], [14, 0.495]]]\n",
      "[1, 0, 1, 0, 0, 1, 1, 1, 1, 9, [[8, 0.838], [15, 0.575], [26, 0.502]]]\n",
      "[1, 0, 1, 0, 0, 1, 1, 1, 1, 10, [[16, 0.732], [27, 0.627]]]\n",
      "[1, 0, 1, 0, 0, 1, 1, 1, 1, 11, [[28, 0.613]]]\n",
      "[1, 0, 1, 0, 0, 1, 1, 1, 1, 12, [[29, 0.5549999999999999]]]\n",
      "[0, 0, 1, 0, 0, 1, 1, 1, 1, 2, []]\n",
      "[0, 0, 1, 0, 0, 1, 1, 1, 1, 3, [[2, 0.5860000000000001]]]\n",
      "[0, 0, 1, 0, 0, 1, 1, 1, 1, 4, []]\n",
      "[0, 0, 1, 0, 0, 1, 1, 1, 1, 5, []]\n",
      "[0, 0, 1, 0, 0, 1, 1, 1, 1, 6, [[5, 0.661]]]\n",
      "[0, 0, 1, 0, 0, 1, 1, 1, 1, 7, [[6, 0.546]]]\n",
      "[0, 0, 1, 0, 0, 1, 1, 1, 1, 8, [[7, 0.5820000000000001]]]\n",
      "[0, 0, 1, 0, 0, 1, 1, 1, 1, 9, [[8, 0.743], [26, 0.43200000000000005]]]\n",
      "[0, 0, 1, 0, 0, 1, 1, 1, 1, 10, [[27, 0.385]]]\n",
      "[0, 0, 1, 0, 0, 1, 1, 1, 1, 11, [[28, 0.40700000000000003]]]\n",
      "[0, 0, 1, 0, 0, 1, 1, 1, 1, 12, [[29, 0.45699999999999996]]]\n",
      "[1, 1, 0, 0, 0, 1, 1, 1, 1, 2, [[1, 0.635]]]\n",
      "[1, 1, 0, 0, 0, 1, 1, 1, 1, 3, [[9, 0.5660000000000001]]]\n",
      "[1, 1, 0, 0, 0, 1, 1, 1, 1, 4, []]\n",
      "[1, 1, 0, 0, 0, 1, 1, 1, 1, 5, []]\n",
      "[1, 1, 0, 0, 0, 1, 1, 1, 1, 6, [[5, 0.616]]]\n",
      "[1, 1, 0, 0, 0, 1, 1, 1, 1, 7, [[6, 0.78], [13, 0.604]]]\n",
      "[1, 1, 0, 0, 0, 1, 1, 1, 1, 8, [[7, 0.789], [14, 0.546], [20, 0.502]]]\n",
      "[1, 1, 0, 0, 0, 1, 1, 1, 1, 9, [[8, 0.722], [15, 0.637], [21, 0.632]]]\n",
      "[1, 1, 0, 0, 0, 1, 1, 1, 1, 10, [[16, 0.663], [22, 0.639]]]\n",
      "[1, 1, 0, 0, 0, 1, 1, 1, 1, 11, [[23, 0.5469999999999999]]]\n",
      "[1, 1, 0, 0, 0, 1, 1, 1, 1, 12, []]\n",
      "[0, 1, 0, 0, 0, 1, 1, 1, 1, 2, [[1, 0.5680000000000001]]]\n"
     ]
    }
   ],
   "source": [
    "for x in range(280,320):\n",
    "    print(Strat[x])"
   ]
  },
  {
   "cell_type": "markdown",
   "metadata": {},
   "source": [
    "## Create quick functions for handling interfacing between CTB game and Strat array"
   ]
  },
  {
   "cell_type": "code",
   "execution_count": 3,
   "metadata": {},
   "outputs": [],
   "source": [
    "def GameStatetoIndex(gamestate,strat):\n",
    "    for index in range(0,len(strat)):\n",
    "        if(gamestate==strat[index][0:10]):\n",
    "            return index\n",
    "\n",
    "def StratIndextoBestMove(index,strat):\n",
    "    movearray=strat[index][10]\n",
    "    if (len(movearray)==0):#If there are no possible moves\n",
    "        return []\n",
    "    bestmove=[0,0]\n",
    "    for move in movearray:\n",
    "        [moveindex,move_success_chance]=move\n",
    "        [bestmoveindex,bestmove_success_chance]=bestmove\n",
    "        if move_success_chance >= bestmove_success_chance:\n",
    "            bestmove=move\n",
    "    return bestmove"
   ]
  },
  {
   "cell_type": "code",
   "execution_count": 4,
   "metadata": {},
   "outputs": [
    {
     "name": "stdout",
     "output_type": "stream",
     "text": [
      "3552\n",
      "96448\n"
     ]
    }
   ],
   "source": [
    "numtests=100000\n",
    "wins=0\n",
    "losses=0\n",
    "for gametest in range(0,numtests):\n",
    "    Game=CTB.Game(1,1,1,1,1,1,1,1,1)\n",
    "    while(True):\n",
    "        Game.startturn()\n",
    "        if (Game.gameover()):\n",
    "            losses=losses+1\n",
    "            break\n",
    "        State=Game.showenv_val()\n",
    "        State = State[1:11]\n",
    "        StratIndex=GameStatetoIndex(State,Strat)\n",
    "        [BestMoveIndex,BestMoveChance]=StratIndextoBestMove(StratIndex,Strat)\n",
    "        Game.makemove(BestMoveIndex)\n",
    "        if (Game.iwon()):\n",
    "            wins = wins+1\n",
    "            break\n",
    "print(wins)\n",
    "print(losses)\n",
    "        \n",
    "        "
   ]
  },
  {
   "cell_type": "code",
   "execution_count": 5,
   "metadata": {},
   "outputs": [
    {
     "name": "stdout",
     "output_type": "stream",
     "text": [
      "3.5520000000000005\n"
     ]
    }
   ],
   "source": [
    "print(100*(wins/(wins+losses)))"
   ]
  },
  {
   "cell_type": "markdown",
   "metadata": {},
   "source": [
    "# So according to the optimal play strategy, we can win about 3.5% of the time"
   ]
  },
  {
   "cell_type": "code",
   "execution_count": null,
   "metadata": {},
   "outputs": [],
   "source": []
  }
 ],
 "metadata": {
  "kernelspec": {
   "display_name": "Python 3",
   "language": "python",
   "name": "python3"
  },
  "language_info": {
   "codemirror_mode": {
    "name": "ipython",
    "version": 3
   },
   "file_extension": ".py",
   "mimetype": "text/x-python",
   "name": "python",
   "nbconvert_exporter": "python",
   "pygments_lexer": "ipython3",
   "version": "3.6.3"
  }
 },
 "nbformat": 4,
 "nbformat_minor": 2
}
