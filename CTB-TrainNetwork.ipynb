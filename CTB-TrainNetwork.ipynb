{
 "cells": [
  {
   "cell_type": "code",
   "execution_count": 1,
   "metadata": {},
   "outputs": [
    {
     "name": "stderr",
     "output_type": "stream",
     "text": [
      "Using TensorFlow backend.\n"
     ]
    }
   ],
   "source": [
    "import CTBGame as CTB\n",
    "import keras\n",
    "import random\n",
    "import numpy as np\n",
    "import matplotlib.pyplot as plt"
   ]
  },
  {
   "cell_type": "code",
   "execution_count": 2,
   "metadata": {},
   "outputs": [],
   "source": [
    "class ReplayMem:\n",
    "    def __init__(self,memoryslots):\n",
    "        self.memoryslots=memoryslots\n",
    "        self.memory=[]\n",
    "    def Add(self, state, predict, gameover):\n",
    "        self.memory.append([state, predict, gameover])\n",
    "        if(len(self.memory)>self.memoryslots):\n",
    "            del self.memory[0]\n",
    "    def retrieve(self):\n",
    "        return self.memory\n",
    "    def getbatch(self,size):\n",
    "        states=[]\n",
    "        predicts=[]\n",
    "        \n",
    "        if(size>len(self.memory)):\n",
    "            size=len(self.memory)\n",
    "        batch=random.sample(self.memory,size)\n",
    "        \n",
    "        for entry in batch:\n",
    "            tstate,tpredict,tgameover = entry\n",
    "            states.append(tstate)\n",
    "            predicts.append(tpredict)\n",
    "            \n",
    "        return states,predicts\n",
    "        "
   ]
  },
  {
   "cell_type": "code",
   "execution_count": 3,
   "metadata": {},
   "outputs": [],
   "source": [
    "def Policy(movearray, availmoves, epsilon):\n",
    "    available_moves = []\n",
    "    for move in availmoves:\n",
    "        available_moves.append(movearray[0][move])\n",
    "    number_of_moves = len(available_moves)\n",
    "    if epsilon > random.uniform(0,1):\n",
    "        choice_index = random.randint(0,(number_of_moves-1))\n",
    "    else:\n",
    "        choice_index = np.argmax(available_moves)\n",
    "    choice = availmoves[choice_index]\n",
    "    return choice"
   ]
  },
  {
   "cell_type": "markdown",
   "metadata": {},
   "source": [
    "# Neural net will have 11 inputs and 36 outputs\n",
    "### Inputs are [1,2,3,4,5,6,7,8,9,dice]\n",
    "### Outputs are [0,1]...[5,6]"
   ]
  },
  {
   "cell_type": "code",
   "execution_count": 7,
   "metadata": {},
   "outputs": [
    {
     "name": "stdout",
     "output_type": "stream",
     "text": [
      "(None, 11)\n"
     ]
    }
   ],
   "source": [
    "model = keras.Sequential()\n",
    "model.add(keras.layers.Dense(22, input_dim=11, activation='relu'))\n",
    "model.add(keras.layers.Dense(30, activation='relu'))\n",
    "model.add(keras.layers.Dense(30, activation='relu'))\n",
    "model.add(keras.layers.Dense(30, activation='relu'))\n",
    "model.add(keras.layers.Dense(36, activation='linear'))\n",
    "model.compile(loss='mse', optimizer='sgd', metrics=['mae'])\n",
    "print(model.input_shape)"
   ]
  },
  {
   "cell_type": "code",
   "execution_count": 8,
   "metadata": {},
   "outputs": [],
   "source": [
    "def TestWinRate(numtests,model,game):\n",
    "    wins=0\n",
    "    for x in range(0,numtests):\n",
    "        game_over=False\n",
    "        game=CTB.Game(1,1,1,1,1,1,1,1,1)\n",
    "        game.startturn()\n",
    "        while not game_over:\n",
    "            state = game.showenv_vect()\n",
    "            state = state.reshape(1,11)\n",
    "            moves = game.showmoves()\n",
    "            prediction = model.predict(state)\n",
    "            action = Policy(prediction,moves,epsilon)\n",
    "\n",
    "            game.makemove(action)\n",
    "            game.startturn()\n",
    "            game_over = game.gameover()\n",
    "            if(game.iwon()):\n",
    "                wins = wins+1\n",
    "        #if (x % (numtests/10)==0):\n",
    "            #print (\"tick\")\n",
    "            #print(wins)\n",
    "    #print(\"done\")\n",
    "    return(wins/numtests)"
   ]
  },
  {
   "cell_type": "code",
   "execution_count": 9,
   "metadata": {},
   "outputs": [
    {
     "name": "stdout",
     "output_type": "stream",
     "text": [
      "0.029\n",
      "0.8225358458055481\n",
      "0.023333333333333334\n",
      "0.7517391307056098\n",
      "0.033\n",
      "0.6870359796667409\n",
      "0.025333333333333333\n",
      "0.6279019118155861\n",
      "0.025\n",
      "0.5738575890201706\n",
      "0.033\n",
      "0.5244649303962647\n",
      "0.03\n",
      "0.4793235612431535\n",
      "0.030666666666666665\n",
      "0.4380675676240706\n",
      "0.03133333333333333\n",
      "0.4003625302840499\n",
      "0.032\n",
      "0.3659028138622684\n",
      "0.030666666666666665\n",
      "0.3344090894253685\n",
      "0.029\n",
      "0.30562607023951033\n",
      "0.03233333333333333\n",
      "0.27932044242742415\n",
      "0.041\n",
      "0.25527897373646874\n",
      "0.035\n",
      "0.23330678508744265\n",
      "0.03933333333333333\n",
      "0.21322577089341432\n",
      "0.035\n",
      "0.19487315534372707\n",
      "0.030333333333333334\n",
      "0.17810017295049863\n",
      "0.03266666666666666\n",
      "0.1627708626621696\n",
      "0.036333333333333336\n",
      "0.14876096576925146\n",
      "0.03166666666666667\n",
      "0.13595691866873444\n",
      "0.044\n",
      "0.12425493232255967\n",
      "0.033666666666666664\n",
      "0.1135601509482752\n",
      "0.037\n",
      "0.10378588312227252\n",
      "0.03766666666666667\n",
      "0.09485289906294907\n",
      "0.037333333333333336\n",
      "0.08668878839761246\n",
      "0.03933333333333333\n",
      "0.07922737320720935\n",
      "0.042333333333333334\n",
      "0.07240817159104863\n",
      "0.03833333333333333\n",
      "0.06617590740319612\n",
      "0.03666666666666667\n",
      "0.060480062186486286\n",
      "0.03766666666666667\n",
      "0.055274465672148484\n",
      "0.042333333333333334\n",
      "0.050516921525655976\n",
      "0.04566666666666667\n",
      "0.04616886530510891\n",
      "0.041666666666666664\n",
      "0.0421950518595781\n",
      "0.046\n",
      "0.03856326963347455\n",
      "0.050333333333333334\n",
      "0.03524407956110826\n",
      "0.04633333333333333\n",
      "0.03221057643492702\n",
      "0.043333333333333335\n",
      "0.029438170813096597\n",
      "0.043666666666666666\n",
      "0.026904389698576215\n",
      "0.04733333333333333\n",
      "0.024588694374000526\n",
      "0.047\n",
      "0.022472313915747465\n",
      "0.04733333333333333\n",
      "0.020538093037663487\n",
      "0.048666666666666664\n",
      "0.018770353031075073\n",
      "0.04733333333333333\n",
      "0.017154764673871167\n",
      "0.04566666666666667\n",
      "0.015678232078464128\n",
      "0.054\n",
      "0.014328786537105741\n",
      "0.041\n",
      "0.013095489504072707\n"
     ]
    },
    {
     "name": "stderr",
     "output_type": "stream",
     "text": [
      "/opt/conda/lib/python3.6/site-packages/numpy/core/fromnumeric.py:83: RuntimeWarning: invalid value encountered in reduce\n",
      "  return ufunc.reduce(obj, axis, dtype, out, **passkwargs)\n"
     ]
    },
    {
     "name": "stdout",
     "output_type": "stream",
     "text": [
      "0.048\n",
      "0.011968343928300115\n",
      "0.044\n",
      "0.010938213217728933\n",
      "0.04133333333333333\n",
      "0.009996747178495656\n",
      "0.04533333333333334\n",
      "0.00913631432863126\n",
      "0.047\n",
      "0.008349940037606739\n",
      "0.046\n",
      "0.0076312499902871905\n",
      "0.052333333333333336\n",
      "0.006974418517016053\n",
      "0.05466666666666667\n",
      "0.006374121370995199\n",
      "0.04833333333333333\n",
      "0.005825492570176393\n",
      "0.047\n",
      "0.00532408495382665\n",
      "0.051333333333333335\n",
      "0.00486583413404044\n",
      "0.052333333333333336\n",
      "0.004447025549991625\n",
      "0.051\n",
      "0.004064264357868052\n",
      "0.051333333333333335\n",
      "0.003714447912418168\n",
      "0.051333333333333335\n",
      "0.003394740617046142\n",
      "0.04666666666666667\n",
      "0.003102550938591663\n",
      "0.048666666666666664\n",
      "0.0028355104004769895\n",
      "0.051666666666666666\n",
      "0.002591454383940848\n",
      "0.052\n",
      "0.0023684045817347565\n",
      "0.050666666666666665\n",
      "0.002164552962052151\n",
      "0.050333333333333334\n",
      "0.0019782471127027385\n",
      "0.047\n",
      "0.0018079768467325868\n",
      "0.046\n",
      "0.0016523619609155934\n",
      "0.050666666666666665\n",
      "0.0015101410478873614\n",
      "0.052\n",
      "0.0013801612712330083\n",
      "0.04766666666666667\n",
      "0.0012613690206463352\n",
      "0.052333333333333336\n",
      "0.0011528013714113886\n",
      "0.050666666666666665\n",
      "0.0010535782789774055\n",
      "0.04733333333333333\n",
      "0.000962895445356709\n",
      "0.05366666666666667\n",
      "0.0008800177995208775\n",
      "0.055\n",
      "0.0008042735389476043\n",
      "0.046\n",
      "0.0007350486840192111\n",
      "0.04766666666666667\n",
      "0.0006717821011311091\n",
      "0.04666666666666667\n",
      "0.0006139609541676716\n",
      "0.048\n",
      "0.0005611165474754321\n",
      "0.054\n",
      "0.0005128205266368829\n",
      "0.047\n",
      "0.0004686814062485729\n",
      "0.044\n",
      "0.000428341396557782\n",
      "0.051333333333333335\n",
      "0.00039147350323465066\n",
      "0.051666666666666666\n",
      "0.00035777887677063824\n",
      "0.051666666666666666\n",
      "0.0003269843900176631\n",
      "0.04766666666666667\n",
      "0.00029884042423154446\n",
      "0.051\n",
      "0.0002731188456735357\n",
      "0.050333333333333334\n",
      "0.00024961115636835317\n",
      "0.04733333333333333\n",
      "0.00022812680402882696\n",
      "0.04533333333333334\n",
      "0.00020849163744751962\n",
      "0.047\n",
      "0.00019054649483475533\n",
      "0.047\n",
      "0.00017414591366020889\n",
      "0.052\n",
      "0.00015915695154008862\n",
      "0.048666666666666664\n",
      "0.00014545810861206634\n",
      "0.047\n",
      "0.00013293834266277902\n",
      "0.04933333333333333\n",
      "0.00012149616902457426\n",
      "0.058666666666666666\n",
      "0.0001110388379452911\n"
     ]
    }
   ],
   "source": [
    "numgenerations = 100\n",
    "numepochs = 1500\n",
    "numtests = 3000\n",
    "epsilon = 0.9\n",
    "epsilon_degrade = 0.99994\n",
    "discount = 0.95\n",
    "results=[]\n",
    "completedepochs=0\n",
    "\n",
    "for y in range(0,numgenerations):\n",
    "    winpercent = 0\n",
    "    for x in range(0,numepochs):\n",
    "        completedepochs = completedepochs+1\n",
    "        game_over=False\n",
    "        game=CTB.Game(1,1,1,1,1,1,1,1,1)\n",
    "        game.startturn()\n",
    "\n",
    "        epsilon = epsilon * epsilon_degrade\n",
    "        while not game_over:\n",
    "            state = game.showenv_vect()\n",
    "            state = state.reshape(1,11)\n",
    "            moves = game.showmoves()\n",
    "            prediction = model.predict(state,verbose=0)\n",
    "            action = Policy(prediction,moves,epsilon)\n",
    "\n",
    "            game.makemove(action)\n",
    "            game.startturn()\n",
    "            new_state = game.showenv_vect()\n",
    "            new_state = new_state.reshape(1,11)\n",
    "            game_over = game.gameover()\n",
    "\n",
    "            r = (game.getscore())\n",
    "            if not game_over:\n",
    "                max_next_r = (np.max(model.predict(new_state,verbose=0)))\n",
    "                r = r + (discount * max_next_r)\n",
    "            else:\n",
    "                if(game.iwon()):\n",
    "                    r = 5\n",
    "\n",
    "            corrected_prediction = prediction\n",
    "            corrected_prediction[0][action] = r\n",
    "            model.fit(state,corrected_prediction,verbose=0)\n",
    "    winpercent = TestWinRate(numtests,model,game)\n",
    "    print(winpercent)\n",
    "    print(epsilon)\n",
    "    results.append([completedepochs,winpercent,epsilon])\n",
    "    if(winpercent>0.055):\n",
    "        break;\n"
   ]
  },
  {
   "cell_type": "markdown",
   "metadata": {},
   "source": [
    "# Now that we've trained the AI for awhile, lets see how it does statistically!"
   ]
  },
  {
   "cell_type": "code",
   "execution_count": 59,
   "metadata": {},
   "outputs": [
    {
     "name": "stdout",
     "output_type": "stream",
     "text": [
      "tick\n",
      "0\n",
      "tick\n",
      "1\n",
      "tick\n",
      "2\n",
      "tick\n",
      "4\n",
      "tick\n",
      "4\n",
      "tick\n",
      "4\n",
      "tick\n",
      "4\n",
      "tick\n",
      "4\n",
      "tick\n",
      "5\n",
      "tick\n",
      "5\n",
      "done\n",
      "0.07\n"
     ]
    }
   ],
   "source": [
    "numtests=100\n",
    "wins=0\n",
    "\n",
    "for x in range(0,numtests):\n",
    "    game_over=False\n",
    "    game=CTB.Game(1,1,1,1,1,1,1,1,1)\n",
    "    game.startturn()\n",
    "    while not game_over:\n",
    "        state = game.showenv_vect()\n",
    "        state = state.reshape(1,11)\n",
    "        moves = game.showmoves()\n",
    "        prediction = model.predict(state)\n",
    "        action = Policy(prediction,moves,epsilon)\n",
    "\n",
    "        game.makemove(action)\n",
    "        game.startturn()\n",
    "        game_over = game.gameover()\n",
    "        if(game.iwon()):\n",
    "            wins = wins+1\n",
    "    if (x % (numtests/10)==0):\n",
    "        print (\"tick\")\n",
    "        print(wins)\n",
    "print(\"done\")\n",
    "print(wins/numtests)"
   ]
  },
  {
   "cell_type": "code",
   "execution_count": 12,
   "metadata": {},
   "outputs": [
    {
     "data": {
      "text/plain": [
       "Text(0, 0.5, 'Win Rate')"
      ]
     },
     "execution_count": 12,
     "metadata": {},
     "output_type": "execute_result"
    },
    {
     "data": {
      "image/png": "[encoded data removed]",
      "text/plain": [
       "<Figure size 432x288 with 1 Axes>"
      ]
     },
     "metadata": {
      "needs_background": "light"
     },
     "output_type": "display_data"
    }
   ],
   "source": [
    "result_epoch = [element[0] for element in results]\n",
    "result_wins = [element[1] for element in results]\n",
    "result_epsilon = [element[2] for element in results]\n",
    "plt.scatter(result_epoch, result_wins)\n",
    "plt.xlabel(\"Number of Epochs\")\n",
    "plt.ylabel(\"Win Rate\")\n",
    "\n",
    "#plt.scatter(result_epoch,result_epsilon)"
   ]
  },
  {
   "cell_type": "code",
   "execution_count": 11,
   "metadata": {},
   "outputs": [
    {
     "data": {
      "text/plain": [
       "[1000, 0.0272, 0.8143496042026991]"
      ]
     },
     "execution_count": 11,
     "metadata": {},
     "output_type": "execute_result"
    }
   ],
   "source": [
    "results[0]"
   ]
  },
  {
   "cell_type": "code",
   "execution_count": 74,
   "metadata": {},
   "outputs": [],
   "source": [
    "model.save_weights(\"model.h5\")"
   ]
  },
  {
   "cell_type": "markdown",
   "metadata": {},
   "source": [
    "# Compare difference in Optimal Play and trained NN"
   ]
  },
  {
   "cell_type": "markdown",
   "metadata": {},
   "source": [
    "This code is going to be terrible but bear with me"
   ]
  },
  {
   "cell_type": "code",
   "execution_count": 61,
   "metadata": {},
   "outputs": [],
   "source": [
    "from OptimalPlayStrat import Strat"
   ]
  },
  {
   "cell_type": "markdown",
   "metadata": {},
   "source": [
    "Setup basic functions for dealing with the Optimal Play strategy"
   ]
  },
  {
   "cell_type": "code",
   "execution_count": 62,
   "metadata": {},
   "outputs": [],
   "source": [
    "def GameStatetoIndex(gamestate,strat):\n",
    "    for index in range(0,len(strat)):\n",
    "        if(gamestate==strat[index][0:10]):\n",
    "            return index\n",
    "\n",
    "def StratIndextoBestMove(index,strat):\n",
    "    movearray=strat[index][10]\n",
    "    if (len(movearray)==0):#If there are no possible moves\n",
    "        return []\n",
    "    bestmove=[0,0]\n",
    "    for move in movearray:\n",
    "        [moveindex,move_success_chance]=move\n",
    "        [bestmoveindex,bestmove_success_chance]=bestmove\n",
    "        if move_success_chance >= bestmove_success_chance:\n",
    "            bestmove=move\n",
    "    return bestmove\n",
    "moveArray=[[0,1],[0,2],[0,3],[0,4],[0,5],[0,6],[0,7],[0,8],[0,9],\n",
    "                        [1,2],[1,3],[1,4],[1,5],[1,6],[1,7],[1,8],[1,9],\n",
    "                        [2,3],[2,4],[2,5],[2,6],[2,7],[2,8],[2,9],\n",
    "                        [3,4],[3,5],[3,6],[3,7],[3,8],[3,9],\n",
    "                        [4,5],[4,6],[4,7],[4,8],\n",
    "                        [5,6],[5,7]]"
   ]
  },
  {
   "cell_type": "code",
   "execution_count": 71,
   "metadata": {},
   "outputs": [
    {
     "name": "stdout",
     "output_type": "stream",
     "text": [
      "222\n",
      "5632\n"
     ]
    }
   ],
   "source": [
    "Differences=[]\n",
    "\n",
    "for gamestate in Strat:\n",
    "    gs=gamestate\n",
    "    testGame = CTB.Game(gs[0],gs[1],gs[2],gs[3],gs[4],gs[5],gs[6],gs[7],gs[8])\n",
    "    dice = gs[9]\n",
    "    testGame.startturn()\n",
    "    \n",
    "    testGame.startturn_cheat(dice)\n",
    "    state = testGame.showenv_vect()\n",
    "    state[10] = dice/12\n",
    "    state = state.reshape(1,11)\n",
    "    \n",
    "    \n",
    "    prediction = model.predict(state)\n",
    "    moves = testGame.showmoves()\n",
    "    if len(moves)==0: #Don't compute further if game is over\n",
    "        continue\n",
    "    NNaction = Policy(prediction,moves,epsilon)\n",
    "    \n",
    "    stateIndex = GameStatetoIndex(gamestate[0:10],Strat)\n",
    "    Strataction = StratIndextoBestMove(stateIndex,Strat)\n",
    "    \n",
    "    if not(moveArray[NNaction]==moveArray[Strataction[0]]):\n",
    "        difState = gamestate[0:10]+[moveArray[NNaction]]+[moveArray[Strataction[0]]]\n",
    "        Differences.append(difState)\n",
    "print(len(Differences))\n",
    "print(len(Strat))\n",
    "    \n"
   ]
  },
  {
   "cell_type": "code",
   "execution_count": 72,
   "metadata": {},
   "outputs": [
    {
     "name": "stdout",
     "output_type": "stream",
     "text": [
      "[[1, 1, 1, 1, 1, 1, 1, 1, 1, 6, [0, 6], [1, 5]], [1, 1, 1, 1, 1, 1, 1, 1, 1, 7, [0, 7], [1, 6]], [1, 1, 1, 1, 1, 1, 1, 1, 1, 8, [0, 8], [3, 5]], [1, 1, 1, 1, 1, 1, 1, 1, 1, 9, [0, 9], [4, 5]], [1, 1, 1, 1, 1, 1, 1, 1, 1, 10, [1, 9], [4, 6]], [1, 1, 1, 1, 1, 1, 1, 1, 1, 11, [2, 9], [5, 6]], [1, 1, 1, 1, 1, 1, 1, 1, 1, 12, [3, 9], [5, 7]], [0, 1, 1, 1, 1, 1, 1, 1, 1, 11, [2, 9], [5, 6]], [0, 1, 1, 1, 1, 1, 1, 1, 1, 12, [3, 9], [5, 7]], [1, 0, 1, 1, 1, 1, 1, 1, 1, 8, [0, 8], [1, 7]]]\n"
     ]
    }
   ],
   "source": [
    "print(Differences[0:10])"
   ]
  },
  {
   "cell_type": "code",
   "execution_count": 73,
   "metadata": {},
   "outputs": [],
   "source": [
    "with open(\"StratDifferences.py\", 'w') as file_handler:\n",
    "        file_handler.write(\"Strat={}\\n\".format(Differences))"
   ]
  },
  {
   "cell_type": "code",
   "execution_count": null,
   "metadata": {},
   "outputs": [],
   "source": []
  }
 ],
 "metadata": {
  "kernelspec": {
   "display_name": "Python 3",
   "language": "python",
   "name": "python3"
  },
  "language_info": {
   "codemirror_mode": {
    "name": "ipython",
    "version": 3
   },
   "file_extension": ".py",
   "mimetype": "text/x-python",
   "name": "python",
   "nbconvert_exporter": "python",
   "pygments_lexer": "ipython3",
   "version": "3.6.3"
  }
 },
 "nbformat": 4,
 "nbformat_minor": 2
}
